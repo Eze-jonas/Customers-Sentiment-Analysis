{
 "cells": [
  {
   "cell_type": "code",
   "execution_count": 0,
   "metadata": {
    "application/vnd.databricks.v1+cell": {
     "cellMetadata": {
      "byteLimit": 2048000,
      "rowLimit": 10000
     },
     "inputWidgets": {},
     "nuid": "597441c0-2789-4cf3-b00f-7d9a6ea521ea",
     "showTitle": false,
     "tableResultSettingsMap": {},
     "title": ""
    }
   },
   "outputs": [],
   "source": [
    "# create the widgets interactive form.\n",
    "\n",
    "dbutils.widgets.removeAll()\n",
    "dbutils.widgets.text(\"user_Name\", \"\", \"01 - Enter User_Name\")\n",
    "dbutils.widgets.text(\"password\", \"\", \"02 - Enter Password\")\n",
    "dbutils.widgets.text(\"user_id\", \"\", \"03 - Enter User ID (13–14 chars, A–Z, 0–9)\")\n",
    "dbutils.widgets.dropdown(\"product_id\", \"Loading...\", [\"Loading...\"], \"04 - Select Product ID\")\n",
    "dbutils.widgets.text(\"review\", \"\", \"05 - Enter Review\")\n",
    "dbutils.widgets.dropdown(\"day\", \"1\", [str(i) for i in range(1, 32)], \"06 - Select Day\")\n",
    "dbutils.widgets.dropdown(\"month\", \"January\", [\n",
    "    \"January\", \"February\", \"March\", \"April\", \"May\", \"June\",\n",
    "    \"July\", \"August\", \"September\", \"October\", \"November\", \"December\"\n",
    "], \"07 - Select Month\")\n",
    "dbutils.widgets.dropdown(\"year\", \"2024\", [\"2023\", \"2024\", \"2025\"], \"08 - Select Year\")"
   ]
  },
  {
   "cell_type": "code",
   "execution_count": 0,
   "metadata": {
    "application/vnd.databricks.v1+cell": {
     "cellMetadata": {
      "byteLimit": 2048000,
      "rowLimit": 10000
     },
     "inputWidgets": {},
     "nuid": "9c85bc85-2a3d-4ba4-a396-564875e28b7d",
     "showTitle": false,
     "tableResultSettingsMap": {},
     "title": ""
    }
   },
   "outputs": [
    {
     "output_type": "stream",
     "name": "stdout",
     "output_type": "stream",
     "text": [
      "✅ Login successful!\n"
     ]
    }
   ],
   "source": [
    "# # validate the following columns:\n",
    "# Get username and password\n",
    "user_Name = dbutils.widgets.get(\"user_Name\")\n",
    "password = dbutils.widgets.get(\"password\")\n",
    "\n",
    "# Check credentials\n",
    "if user_Name != \"admin\" or password != \"password123\":\n",
    "    raise ValueError(\"❌ Invalid login credentials. Please enter correct username and password.\")\n",
    "else:\n",
    "    print(\"✅ Login successful!\")\n",
    "\n",
    "\n",
    "import re\n",
    "\n",
    "# Fetch the User ID from the widget\n",
    "user_id = dbutils.widgets.get(\"user_id\").strip()\n",
    "\n",
    "# Validate User ID: must be 13-14 chars, only uppercase A-Z and digits 0-9\n",
    "if not re.match(r'^[A-Z0-9]{13,14}$', user_id):\n",
    "    raise ValueError(\"❌ Invalid User ID. It must be 13–14 characters long and only contain A–Z and 0–9.\")\n",
    "else:\n",
    "    print(\"✅ Valid User ID.\")    "
   ]
  },
  {
   "cell_type": "code",
   "execution_count": 0,
   "metadata": {
    "application/vnd.databricks.v1+cell": {
     "cellMetadata": {
      "byteLimit": 2048000,
      "rowLimit": 10000
     },
     "inputWidgets": {},
     "nuid": "d99b6369-b304-4df0-9ee4-61d96c175cdf",
     "showTitle": false,
     "tableResultSettingsMap": {},
     "title": ""
    }
   },
   "outputs": [],
   "source": [
    "# populat product IDs from this dataset.\n",
    "df_products = spark.read.parquet(\"dbfs:/saved_data/processed_data3.parquet\")\n",
    "\n",
    "# Get distinct product IDs as a Python list\n",
    "product_ids = df_products.select(\"ProductId\").distinct().rdd.flatMap(lambda x: x).collect()\n",
    "\n",
    "# Remove the placeholder dropdown widget first\n",
    "dbutils.widgets.remove(\"product_id\")\n",
    "\n",
    "# Re-create the dropdown widget with actual product IDs (limit to first 50 for UI performance)\n",
    "dbutils.widgets.dropdown(\"product_id\", product_ids[0], product_ids[:50], \"Select Product ID\")"
   ]
  },
  {
   "cell_type": "code",
   "execution_count": 0,
   "metadata": {
    "application/vnd.databricks.v1+cell": {
     "cellMetadata": {
      "byteLimit": 2048000,
      "rowLimit": 10000
     },
     "inputWidgets": {},
     "nuid": "cc3dc16a-9e19-46b3-a8d7-2a5197151c0b",
     "showTitle": false,
     "tableResultSettingsMap": {},
     "title": ""
    }
   },
   "outputs": [
    {
     "output_type": "stream",
     "name": "stdout",
     "output_type": "stream",
     "text": [
      "Metadata and model loaded successfully!\n"
     ]
    }
   ],
   "source": [
    "# load the saved model and metadata.\n",
    "\n",
    "import joblib\n",
    "from tensorflow.keras.models import load_model\n",
    "\n",
    "# Load punctuation removal metadata\n",
    "punctuation_metadata = joblib.load(\"/dbfs/saved_columns/punctuation_removal_metadata.pkl\")\n",
    "\n",
    "# Load other metadata as needed\n",
    "spacing_metadata = joblib.load(\"/dbfs/saved_columns/punctuation_spacing_metadata.pkl\")\n",
    "lowercase_metadata = joblib.load(\"/dbfs/saved_columns/lowercase_metadata.pkl\")\n",
    "tokenization_metadata = joblib.load(\"/dbfs/saved_columns/tokenization_metadata.pkl\")\n",
    "stopword_metadata = joblib.load(\"/dbfs/saved_columns/stopword_removal_metadata.pkl\")\n",
    "lemmatization_metadata = joblib.load(\"/dbfs/saved_columns/lemmatization_metadata.pkl\")\n",
    "concat_metadata = joblib.load(\"/dbfs/saved_columns/concat_summary_tokens.pkl\")\n",
    "tokenizer_metadata = joblib.load(\"/dbfs/saved_columns/keras_tokenizer_metadata.pkl\")\n",
    "# **New: Save the actual tokenizer object**\n",
    "tokenizer_object = joblib.load(\"/dbfs/saved_columns/keras_tokenizer.pkl\")\n",
    "label_encoding_metadata_metadata = joblib.load(\"/dbfs/saved_columns/label_encoding_Sentiment.pkl\")\n",
    "\n",
    "# Load the trained CNN sentiment model\n",
    "model = load_model(\"/dbfs/models/cnn_sentiment_model.keras\")\n",
    "\n",
    "print(\"Metadata and model loaded successfully!\")"
   ]
  },
  {
   "cell_type": "code",
   "execution_count": 0,
   "metadata": {
    "application/vnd.databricks.v1+cell": {
     "cellMetadata": {
      "byteLimit": 2048000,
      "rowLimit": 10000
     },
     "inputWidgets": {},
     "nuid": "8eff8289-b594-4b92-8556-37db45779cc3",
     "showTitle": false,
     "tableResultSettingsMap": {},
     "title": ""
    }
   },
   "outputs": [
    {
     "output_type": "stream",
     "name": "stdout",
     "output_type": "stream",
     "text": [
      "Review entered: Waoo! this product is very nice, it improved the growth of my dog.\n\r\u001B[1m1/1\u001B[0m \u001B[32m━━━━━━━━━━━━━━━━━━━━\u001B[0m\u001B[37m\u001B[0m \u001B[1m0s\u001B[0m 118ms/step\b\b\b\b\b\b\b\b\b\b\b\b\b\b\b\b\b\b\b\b\b\b\b\b\b\b\b\b\b\b\b\b\b\b\b\b\b\b\r\u001B[1m1/1\u001B[0m \u001B[32m━━━━━━━━━━━━━━━━━━━━\u001B[0m\u001B[37m\u001B[0m \u001B[1m0s\u001B[0m 136ms/step\n✅ Predicted Sentiment: positive\n"
     ]
    }
   ],
   "source": [
    "# Apply the loaded models and metadata to the review text and make prediction.\n",
    "\n",
    "import re\n",
    "# Define a text input widget in Databricks\n",
    "dbutils.widgets.text(\"review\", \"Type your review here\")\n",
    "\n",
    "# Get user input from the widget\n",
    "review_text = dbutils.widgets.get(\"review\")\n",
    "# 3. Apply preprocessing (manual logic)\n",
    "# Now review_text is safe to use\n",
    "print(\"Review entered:\", review_text)\n",
    "# a. Remove punctuation using saved regex\n",
    "regex_pattern = punctuation_metadata[\"regex_used\"]\n",
    "text = re.sub(regex_pattern, \"\", review_text)\n",
    "\n",
    "# b. Fix spacing (simple fix: collapse multiple spaces)\n",
    "text = re.sub(r\"\\s+\", \" \", text).strip()\n",
    "\n",
    "# c. Lowercase\n",
    "text = text.lower()\n",
    "\n",
    "# d. Tokenize (split by space)\n",
    "tokens = text.split()\n",
    "\n",
    "# e. Remove stopwords\n",
    "stopwords = set(stopword_metadata.get(\"stopwords\", [])) or set([\n",
    "    # fallback standard English stopwords\n",
    "    \"a\", \"an\", \"the\", \"and\", \"is\", \"it\", \"to\", \"in\", \"that\", \"this\", \"of\", \"for\", \"on\", \"with\"\n",
    "])\n",
    "tokens = [t for t in tokens if t not in stopwords]\n",
    "\n",
    "# f. Lemmatize (based on lemmatization dict if available)\n",
    "lemmatizer_dict = lemmatization_metadata.get(\"lemma_dict\", {})\n",
    "tokens = [lemmatizer_dict.get(token, token) for token in tokens]\n",
    "\n",
    "# g. Join tokens into single string\n",
    "clean_text = \" \".join(tokens)\n",
    "\n",
    "# 4. Tokenize with Keras tokenizer\n",
    "from keras.preprocessing.sequence import pad_sequences\n",
    "\n",
    "sequences = tokenizer_object.texts_to_sequences([clean_text])\n",
    "padded_input = pad_sequences(sequences, maxlen=100)  # Adjust maxlen to match training\n",
    "\n",
    "# 5. Predict\n",
    "\n",
    "prediction_probs = model.predict(padded_input)\n",
    "predicted_index = prediction_probs.argmax(axis=1)[0]\n",
    "\n",
    "# 6. Decode predicted label\n",
    "\n",
    "inverse_label_encoding = {v: k for k, v in label_encoding_metadata_metadata[\"encoding\"].items()}\n",
    "predicted_label = inverse_label_encoding[predicted_index]\n",
    "\n",
    "# 7. Output result\n",
    "\n",
    "print(f\"✅ Predicted Sentiment: {predicted_label}\")"
   ]
  },
  {
   "cell_type": "code",
   "execution_count": 0,
   "metadata": {
    "application/vnd.databricks.v1+cell": {
     "cellMetadata": {
      "byteLimit": 2048000,
      "rowLimit": 10000
     },
     "inputWidgets": {},
     "nuid": "c9d89464-559c-4372-91db-599493f2a7cf",
     "showTitle": false,
     "tableResultSettingsMap": {},
     "title": ""
    }
   },
   "outputs": [
    {
     "output_type": "stream",
     "name": "stdout",
     "output_type": "stream",
     "text": [
      "✅ Prediction saved with deduplication using prediction_id!\n"
     ]
    }
   ],
   "source": [
    "# convert the prediction into a Spark DataFrame for saving to Delta Lake\n",
    "from pyspark.sql import Row\n",
    "from pyspark.sql.functions import current_date, dayofmonth, date_format, year, sha2, concat_ws, lit\n",
    "from pyspark.sql.types import StructType, StructField, StringType, IntegerType\n",
    "from delta.tables import DeltaTable\n",
    "\n",
    "# Get dynamic inputs from widgets\n",
    "user_id = dbutils.widgets.get(\"user_id\")        # Expects 13-14 char alphanumeric string\n",
    "product_id = dbutils.widgets.get(\"product_id\")  # From dropdown widget populated from your dataset\n",
    "review_text = dbutils.widgets.get(\"review\")\n",
    "predicted_label = predicted_label  \n",
    "\n",
    "# Define schema explicitly (add prediction_id)\n",
    "schema = StructType([\n",
    "    StructField(\"prediction_id\", StringType(), True),\n",
    "    StructField(\"user_id\", StringType(), True),\n",
    "    StructField(\"product_id\", StringType(), True),\n",
    "    StructField(\"review\", StringType(), True),\n",
    "    StructField(\"sentiment\", StringType(), True),\n",
    "    StructField(\"day\", IntegerType(), True),\n",
    "    StructField(\"month\", StringType(), True),  # Full month name as string\n",
    "    StructField(\"year\", IntegerType(), True),\n",
    "])\n",
    "\n",
    "# Create a Row object with your data and placeholder date values\n",
    "prediction_row = Row(\n",
    "    prediction_id=None,\n",
    "    user_id=user_id,\n",
    "    product_id=product_id,\n",
    "    review=review_text,\n",
    "    sentiment=predicted_label,\n",
    "    day=None,\n",
    "    month=None,\n",
    "    year=None\n",
    ")\n",
    "\n",
    "# Create DataFrame with explicit schema\n",
    "df_prediction = spark.createDataFrame([prediction_row], schema=schema)\n",
    "\n",
    "# Add date columns (using current_date)\n",
    "df_prediction = df_prediction.withColumn(\"prediction_date\", current_date())\n",
    "df_prediction = df_prediction.withColumn(\"day\", dayofmonth(\"prediction_date\"))\n",
    "df_prediction = df_prediction.withColumn(\"month\", date_format(\"prediction_date\", \"MMMM\"))  # Month full name\n",
    "df_prediction = df_prediction.withColumn(\"year\", year(\"prediction_date\"))\n",
    "\n",
    "# Generate unique prediction_id by hashing key fields (user_id, product_id, review, prediction_date)\n",
    "df_prediction = df_prediction.withColumn(\n",
    "    \"prediction_id\",\n",
    "    sha2(concat_ws(\"||\", \"user_id\", \"product_id\", \"review\", \"prediction_date\"), 256)\n",
    ")\n",
    "\n",
    "# Delta table path\n",
    "delta_table_path = \"/mnt/delta/sentiment_predictions\"\n",
    "\n",
    "# If table exists, ensure 'prediction_id' column exists in the schema\n",
    "if DeltaTable.isDeltaTable(spark, delta_table_path):\n",
    "    df_existing = spark.read.format(\"delta\").load(delta_table_path)\n",
    "    if \"prediction_id\" not in df_existing.columns:\n",
    "        # Add prediction_id column with nulls to existing table DataFrame\n",
    "        df_existing = df_existing.withColumn(\"prediction_id\", lit(None).cast(\"string\"))\n",
    "        # Overwrite table to update schema with new column\n",
    "        df_existing.write.format(\"delta\") \\\n",
    "            .mode(\"overwrite\") \\\n",
    "            .option(\"overwriteSchema\", \"true\") \\\n",
    "            .save(delta_table_path)\n",
    "\n",
    "    # Load the DeltaTable object for merge\n",
    "    delta_table = DeltaTable.forPath(spark, delta_table_path)\n",
    "\n",
    "    # Perform merge/upsert on prediction_id to avoid duplicates\n",
    "    delta_table.alias(\"tgt\").merge(\n",
    "        df_prediction.alias(\"src\"),\n",
    "        \"tgt.prediction_id = src.prediction_id\"\n",
    "    ).whenNotMatchedInsertAll().execute()\n",
    "\n",
    "else:\n",
    "    # Table doesn't exist: create new Delta table\n",
    "    df_prediction.write.format(\"delta\").mode(\"overwrite\").save(delta_table_path)\n",
    "\n",
    "print(\"✅ Prediction saved with deduplication using prediction_id!\")"
   ]
  },
  {
   "cell_type": "code",
   "execution_count": 0,
   "metadata": {
    "application/vnd.databricks.v1+cell": {
     "cellMetadata": {
      "byteLimit": 2048000,
      "rowLimit": 10000
     },
     "inputWidgets": {},
     "nuid": "91528dad-6c02-40a9-af63-4ef9a5e00590",
     "showTitle": false,
     "tableResultSettingsMap": {},
     "title": ""
    }
   },
   "outputs": [
    {
     "output_type": "stream",
     "name": "stdout",
     "output_type": "stream",
     "text": [
      "+-------------+----------+------------------------------------------------------------------+---------+---+-----+----+---------------+----------------------------------------------------------------+\n|user_id      |product_id|review                                                            |sentiment|day|month|year|prediction_date|prediction_id                                                   |\n+-------------+----------+------------------------------------------------------------------+---------+---+-----+----+---------------+----------------------------------------------------------------+\n|BB234TYR689JJ|B001BF7PV0|Waoo! this product is very nice, it improved the growth of my dog.|positive |23 |May  |2025|2025-05-23     |506005a9567fa162a34592df864d145e920b878a8718525bd544306b002a9aac|\n|AR234TYR689JJ|B0001PB99K|This is very bad product, my dog didn't like it.                  |negative |23 |May  |2025|2025-05-23     |9169e33721e4c73c3a0d3a80d541ce70963c9e2fecf04fcc47457ec98e495f4e|\n+-------------+----------+------------------------------------------------------------------+---------+---+-----+----+---------------+----------------------------------------------------------------+\n\n"
     ]
    }
   ],
   "source": [
    "# import the dataset from delta lake.\n",
    "df = spark.read.format(\"delta\").load(\"/mnt/delta/sentiment_predictions\")\n",
    "df.show(truncate=False)"
   ]
  },
  {
   "cell_type": "code",
   "execution_count": 0,
   "metadata": {
    "application/vnd.databricks.v1+cell": {
     "cellMetadata": {
      "byteLimit": 2048000,
      "implicitDf": true,
      "rowLimit": 10000
     },
     "inputWidgets": {},
     "nuid": "74c2d0c0-3021-476d-a484-aae6bb376ff3",
     "showTitle": false,
     "tableResultSettingsMap": {},
     "title": ""
    }
   },
   "outputs": [
    {
     "output_type": "display_data",
     "data": {
      "text/html": [
       "<style scoped>\n",
       "  .table-result-container {\n",
       "    max-height: 300px;\n",
       "    overflow: auto;\n",
       "  }\n",
       "  table, th, td {\n",
       "    border: 1px solid black;\n",
       "    border-collapse: collapse;\n",
       "  }\n",
       "  th, td {\n",
       "    padding: 5px;\n",
       "  }\n",
       "  th {\n",
       "    text-align: left;\n",
       "  }\n",
       "</style><div class='table-result-container'><table class='table-result'><thead style='background-color: white'><tr></tr></thead><tbody></tbody></table></div>"
      ]
     },
     "metadata": {
      "application/vnd.databricks.v1+output": {
       "addedWidgets": {},
       "aggData": [],
       "aggError": "",
       "aggOverflow": false,
       "aggSchema": [],
       "aggSeriesLimitReached": false,
       "aggType": "",
       "arguments": {},
       "columnCustomDisplayInfos": {},
       "data": [],
       "datasetInfos": [],
       "dbfsResultPath": null,
       "isJsonSchema": true,
       "metadata": {
        "dataframeName": null
       },
       "overflow": false,
       "plotOptions": {
        "customPlotOptions": {},
        "displayType": "table",
        "pivotAggregation": null,
        "pivotColumns": null,
        "xColumns": null,
        "yColumns": null
       },
       "removedWidgets": [],
       "schema": [],
       "type": "table"
      }
     },
     "output_type": "display_data"
    }
   ],
   "source": [
    "%sql\n",
    "/*\n",
    "Register the delta lake table as a SQL table.\n",
    "*/\n",
    "CREATE TABLE IF NOT EXISTS sentiment_predictions\n",
    "USING DELTA\n",
    "LOCATION '/mnt/delta/sentiment_predictions';"
   ]
  },
  {
   "cell_type": "code",
   "execution_count": 0,
   "metadata": {
    "application/vnd.databricks.v1+cell": {
     "cellMetadata": {
      "byteLimit": 2048000,
      "implicitDf": true,
      "rowLimit": 10000
     },
     "inputWidgets": {},
     "nuid": "24cd2154-79a1-4367-a957-6cedb0583cc0",
     "showTitle": false,
     "tableResultSettingsMap": {},
     "title": ""
    }
   },
   "outputs": [
    {
     "output_type": "display_data",
     "data": {
      "text/html": [
       "<style scoped>\n",
       "  .table-result-container {\n",
       "    max-height: 300px;\n",
       "    overflow: auto;\n",
       "  }\n",
       "  table, th, td {\n",
       "    border: 1px solid black;\n",
       "    border-collapse: collapse;\n",
       "  }\n",
       "  th, td {\n",
       "    padding: 5px;\n",
       "  }\n",
       "  th {\n",
       "    text-align: left;\n",
       "  }\n",
       "</style><div class='table-result-container'><table class='table-result'><thead style='background-color: white'><tr><th>user_id</th><th>product_id</th><th>review</th><th>sentiment</th><th>day</th><th>month</th><th>year</th><th>prediction_date</th><th>prediction_id</th></tr></thead><tbody><tr><td>BB234TYR689JJ</td><td>B001BF7PV0</td><td>Waoo! this product is very nice, it improved the growth of my dog.</td><td>positive</td><td>23</td><td>May</td><td>2025</td><td>2025-05-23</td><td>506005a9567fa162a34592df864d145e920b878a8718525bd544306b002a9aac</td></tr><tr><td>AR234TYR689JJ</td><td>B0001PB99K</td><td>This is very bad product, my dog didn't like it.</td><td>negative</td><td>23</td><td>May</td><td>2025</td><td>2025-05-23</td><td>9169e33721e4c73c3a0d3a80d541ce70963c9e2fecf04fcc47457ec98e495f4e</td></tr></tbody></table></div>"
      ]
     },
     "metadata": {
      "application/vnd.databricks.v1+output": {
       "addedWidgets": {},
       "aggData": [],
       "aggError": "",
       "aggOverflow": false,
       "aggSchema": [],
       "aggSeriesLimitReached": false,
       "aggType": "",
       "arguments": {},
       "columnCustomDisplayInfos": {},
       "data": [
        [
         "BB234TYR689JJ",
         "B001BF7PV0",
         "Waoo! this product is very nice, it improved the growth of my dog.",
         "positive",
         23,
         "May",
         2025,
         "2025-05-23",
         "506005a9567fa162a34592df864d145e920b878a8718525bd544306b002a9aac"
        ],
        [
         "AR234TYR689JJ",
         "B0001PB99K",
         "This is very bad product, my dog didn't like it.",
         "negative",
         23,
         "May",
         2025,
         "2025-05-23",
         "9169e33721e4c73c3a0d3a80d541ce70963c9e2fecf04fcc47457ec98e495f4e"
        ]
       ],
       "datasetInfos": [],
       "dbfsResultPath": null,
       "isJsonSchema": true,
       "metadata": {
        "createTempViewForImplicitDf": true,
        "dataframeName": "_sqldf",
        "executionCount": 59
       },
       "overflow": false,
       "plotOptions": {
        "customPlotOptions": {},
        "displayType": "table",
        "pivotAggregation": null,
        "pivotColumns": null,
        "xColumns": null,
        "yColumns": null
       },
       "removedWidgets": [],
       "schema": [
        {
         "metadata": "{}",
         "name": "user_id",
         "type": "\"string\""
        },
        {
         "metadata": "{}",
         "name": "product_id",
         "type": "\"string\""
        },
        {
         "metadata": "{}",
         "name": "review",
         "type": "\"string\""
        },
        {
         "metadata": "{}",
         "name": "sentiment",
         "type": "\"string\""
        },
        {
         "metadata": "{}",
         "name": "day",
         "type": "\"integer\""
        },
        {
         "metadata": "{}",
         "name": "month",
         "type": "\"string\""
        },
        {
         "metadata": "{}",
         "name": "year",
         "type": "\"integer\""
        },
        {
         "metadata": "{}",
         "name": "prediction_date",
         "type": "\"date\""
        },
        {
         "metadata": "{}",
         "name": "prediction_id",
         "type": "\"string\""
        }
       ],
       "type": "table"
      }
     },
     "output_type": "display_data"
    }
   ],
   "source": [
    "%sql\n",
    "/*\n",
    "View all the columns in the  SQL table.\n",
    "*/\n",
    "SELECT * FROM sentiment_predictions;"
   ]
  },
  {
   "cell_type": "code",
   "execution_count": 0,
   "metadata": {
    "application/vnd.databricks.v1+cell": {
     "cellMetadata": {
      "byteLimit": 2048000,
      "rowLimit": 10000
     },
     "inputWidgets": {},
     "nuid": "e29b89fd-2a72-45f8-ac63-f6c1e99e52fa",
     "showTitle": false,
     "tableResultSettingsMap": {},
     "title": ""
    }
   },
   "outputs": [
    {
     "output_type": "stream",
     "name": "stdout",
     "output_type": "stream",
     "text": [
      "✅ Delta table data cleared, ready for fresh inserts.\n"
     ]
    }
   ],
   "source": [
    "# To delete the data in the delta table and start recording new data, run the following code.\n",
    "\n",
    "# delete the existing data in the delta table for a new ones.\n",
    "delta_table_path = \"/mnt/delta/sentiment_predictions\"\n",
    "\n",
    "# Load empty DataFrame with the same schema as your delta table\n",
    "empty_df = spark.createDataFrame([], spark.read.format(\"delta\").load(delta_table_path).schema)\n",
    "\n",
    "# Overwrite the delta table with empty DataFrame to clear data\n",
    "empty_df.write.format(\"delta\").mode(\"overwrite\").save(delta_table_path)\n",
    "\n",
    "print(\"✅ Delta table data cleared, ready for fresh inserts.\")"
   ]
  },
  {
   "cell_type": "code",
   "execution_count": 0,
   "metadata": {
    "application/vnd.databricks.v1+cell": {
     "cellMetadata": {},
     "inputWidgets": {},
     "nuid": "d17f03cd-5bea-4a3b-ac7e-0450d683f2ac",
     "showTitle": false,
     "tableResultSettingsMap": {},
     "title": ""
    }
   },
   "outputs": [],
   "source": []
  }
 ],
 "metadata": {
  "application/vnd.databricks.v1+notebook": {
   "computePreferences": null,
   "dashboards": [],
   "environmentMetadata": {
    "base_environment": "",
    "environment_version": "2"
   },
   "inputWidgetPreferences": null,
   "language": "python",
   "notebookMetadata": {
    "mostRecentlyExecutedCommandWithImplicitDF": {
     "commandId": 5537372317459921,
     "dataframes": [
      "_sqldf"
     ]
    },
    "pythonIndentUnit": 4
   },
   "notebookName": "Deployment_Widgets_app2",
   "widgets": {
    "day": {
     "currentValue": "23",
     "nuid": "1c1c0f89-1b33-4bf1-b48d-8f2782c427bf",
     "typedWidgetInfo": {
      "autoCreated": false,
      "defaultValue": "1",
      "label": "06 - Select Day",
      "name": "day",
      "options": {
       "widgetDisplayType": "Dropdown",
       "choices": [
        "1",
        "2",
        "3",
        "4",
        "5",
        "6",
        "7",
        "8",
        "9",
        "10",
        "11",
        "12",
        "13",
        "14",
        "15",
        "16",
        "17",
        "18",
        "19",
        "20",
        "21",
        "22",
        "23",
        "24",
        "25",
        "26",
        "27",
        "28",
        "29",
        "30",
        "31"
       ],
       "fixedDomain": true,
       "multiselect": false
      },
      "parameterDataType": "String"
     },
     "widgetInfo": {
      "widgetType": "dropdown",
      "defaultValue": "1",
      "label": "06 - Select Day",
      "name": "day",
      "options": {
       "widgetType": "dropdown",
       "autoCreated": null,
       "choices": [
        "1",
        "2",
        "3",
        "4",
        "5",
        "6",
        "7",
        "8",
        "9",
        "10",
        "11",
        "12",
        "13",
        "14",
        "15",
        "16",
        "17",
        "18",
        "19",
        "20",
        "21",
        "22",
        "23",
        "24",
        "25",
        "26",
        "27",
        "28",
        "29",
        "30",
        "31"
       ]
      }
     }
    },
    "month": {
     "currentValue": "May",
     "nuid": "4244801a-62a9-48ed-9e25-1d1a5b6c8bc8",
     "typedWidgetInfo": {
      "autoCreated": false,
      "defaultValue": "January",
      "label": "07 - Select Month",
      "name": "month",
      "options": {
       "widgetDisplayType": "Dropdown",
       "choices": [
        "January",
        "February",
        "March",
        "April",
        "May",
        "June",
        "July",
        "August",
        "September",
        "October",
        "November",
        "December"
       ],
       "fixedDomain": true,
       "multiselect": false
      },
      "parameterDataType": "String"
     },
     "widgetInfo": {
      "widgetType": "dropdown",
      "defaultValue": "January",
      "label": "07 - Select Month",
      "name": "month",
      "options": {
       "widgetType": "dropdown",
       "autoCreated": null,
       "choices": [
        "January",
        "February",
        "March",
        "April",
        "May",
        "June",
        "July",
        "August",
        "September",
        "October",
        "November",
        "December"
       ]
      }
     }
    },
    "password": {
     "currentValue": "password123",
     "nuid": "e18809a3-82fa-4817-ad5a-013b0291b43c",
     "typedWidgetInfo": {
      "autoCreated": false,
      "defaultValue": "",
      "label": "02 - Enter Password",
      "name": "password",
      "options": {
       "widgetDisplayType": "Text",
       "validationRegex": null
      },
      "parameterDataType": "String"
     },
     "widgetInfo": {
      "widgetType": "text",
      "defaultValue": "",
      "label": "02 - Enter Password",
      "name": "password",
      "options": {
       "widgetType": "text",
       "autoCreated": null,
       "validationRegex": null
      }
     }
    },
    "product_id": {
     "currentValue": "B001BF7PV0",
     "nuid": "dbe79256-908b-4600-8aa8-5cc353755ec1",
     "typedWidgetInfo": {
      "autoCreated": false,
      "defaultValue": "Loading...",
      "label": "04 - Select Product ID",
      "name": "product_id",
      "options": {
       "widgetDisplayType": "Dropdown",
       "choices": [
        "Loading..."
       ],
       "fixedDomain": true,
       "multiselect": false
      },
      "parameterDataType": "String"
     },
     "widgetInfo": {
      "widgetType": "dropdown",
      "defaultValue": "Loading...",
      "label": "04 - Select Product ID",
      "name": "product_id",
      "options": {
       "widgetType": "dropdown",
       "autoCreated": null,
       "choices": [
        "Loading..."
       ]
      }
     }
    },
    "review": {
     "currentValue": "Waoo! this product is very nice, it improved the growth of my dog.",
     "nuid": "7b7623d1-fe37-489f-a198-e7dd6a40dfa0",
     "typedWidgetInfo": {
      "autoCreated": false,
      "defaultValue": "",
      "label": "05 - Enter Review",
      "name": "review",
      "options": {
       "widgetDisplayType": "Text",
       "validationRegex": null
      },
      "parameterDataType": "String"
     },
     "widgetInfo": {
      "widgetType": "text",
      "defaultValue": "",
      "label": "05 - Enter Review",
      "name": "review",
      "options": {
       "widgetType": "text",
       "autoCreated": null,
       "validationRegex": null
      }
     }
    },
    "user_Name": {
     "currentValue": "admin",
     "nuid": "78fcd9f2-98e8-4d13-b6c2-e34a5764362e",
     "typedWidgetInfo": {
      "autoCreated": false,
      "defaultValue": "",
      "label": "01 - Enter User_Name",
      "name": "user_Name",
      "options": {
       "widgetDisplayType": "Text",
       "validationRegex": null
      },
      "parameterDataType": "String"
     },
     "widgetInfo": {
      "widgetType": "text",
      "defaultValue": "",
      "label": "01 - Enter User_Name",
      "name": "user_Name",
      "options": {
       "widgetType": "text",
       "autoCreated": null,
       "validationRegex": null
      }
     }
    },
    "user_id": {
     "currentValue": "BB234TYR689JJ",
     "nuid": "59805668-e561-42e6-87fd-d3b2f426f0c0",
     "typedWidgetInfo": {
      "autoCreated": false,
      "defaultValue": "",
      "label": "03 - Enter User ID (13–14 chars, A–Z, 0–9)",
      "name": "user_id",
      "options": {
       "widgetDisplayType": "Text",
       "validationRegex": null
      },
      "parameterDataType": "String"
     },
     "widgetInfo": {
      "widgetType": "text",
      "defaultValue": "",
      "label": "03 - Enter User ID (13–14 chars, A–Z, 0–9)",
      "name": "user_id",
      "options": {
       "widgetType": "text",
       "autoCreated": null,
       "validationRegex": null
      }
     }
    },
    "year": {
     "currentValue": "2025",
     "nuid": "673e066f-8b4f-4e25-97dd-53647c143186",
     "typedWidgetInfo": {
      "autoCreated": false,
      "defaultValue": "2024",
      "label": "08 - Select Year",
      "name": "year",
      "options": {
       "widgetDisplayType": "Dropdown",
       "choices": [
        "2023",
        "2024",
        "2025"
       ],
       "fixedDomain": true,
       "multiselect": false
      },
      "parameterDataType": "String"
     },
     "widgetInfo": {
      "widgetType": "dropdown",
      "defaultValue": "2024",
      "label": "08 - Select Year",
      "name": "year",
      "options": {
       "widgetType": "dropdown",
       "autoCreated": null,
       "choices": [
        "2023",
        "2024",
        "2025"
       ]
      }
     }
    }
   }
  },
  "language_info": {
   "name": "python"
  }
 },
 "nbformat": 4,
 "nbformat_minor": 0
}